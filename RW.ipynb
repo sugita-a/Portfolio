{
 "cells": [
  {
   "cell_type": "markdown",
   "metadata": {},
   "source": [
    "###PDF等からデータを読み取ってその他のアプリケーション（Excelとか）に当てはめていくコード"
   ]
  },
  {
   "cell_type": "code",
   "execution_count": 8,
   "metadata": {},
   "outputs": [
    {
     "data": {
      "text/plain": [
       "10389"
      ]
     },
     "execution_count": 8,
     "metadata": {},
     "output_type": "execute_result"
    }
   ],
   "source": [
    "from pdfminer.pdfinterp import PDFResourceManager, PDFPageInterpreter\n",
    "from pdfminer.converter import TextConverter\n",
    "from pdfminer.layout import LAParams\n",
    "from pdfminer.pdfpage import PDFPage\n",
    "from io import StringIO\n",
    "from glob import glob\n",
    "\n",
    "file_list = glob('./20190423.pdf') # PDFファイル取り込み\n",
    "\n",
    "def convert_pdf_to_txt(path):\n",
    "    rsrcmgr = PDFResourceManager()\n",
    "    retstr = StringIO()\n",
    "    codec = 'utf-8'\n",
    "    laparams = LAParams()\n",
    "    laparams.detect_vertical = True # Trueにすることで綺麗にテキストを抽出できる\n",
    "    device = TextConverter(rsrcmgr, retstr, codec=codec, laparams=laparams)\n",
    "    fp = open(path, 'rb')\n",
    "    interpreter = PDFPageInterpreter(rsrcmgr, device)\n",
    "    maxpages = 0\n",
    "    caching = True\n",
    "    pagenos=set()\n",
    "    fstr = ''\n",
    "    for page in PDFPage.get_pages(fp, pagenos, maxpages=maxpages,caching=caching, check_extractable=True):\n",
    "        interpreter.process_page(page)\n",
    "\n",
    "        str = retstr.getvalue()\n",
    "        fstr += str\n",
    "    fp.close()\n",
    "    device.close()\n",
    "    retstr.close()\n",
    "    return fstr\n",
    "\n",
    "result_list = []\n",
    "for item in file_list:\n",
    "    result_txt = convert_pdf_to_txt(item)\n",
    "    result_list.append(result_txt)\n",
    "\n",
    "allText = ','.join(result_list) # PDFごとのテキストが配列に格納されているので連結する\n",
    "\n",
    "file = open('pdf.txt', 'w')  #書き込みモードでオープン\n",
    "file.write(allText)"
   ]
  }
 ],
 "metadata": {
  "kernelspec": {
   "display_name": "Python 3",
   "language": "python",
   "name": "python3"
  },
  "language_info": {
   "codemirror_mode": {
    "name": "ipython",
    "version": 3
   },
   "file_extension": ".py",
   "mimetype": "text/x-python",
   "name": "python",
   "nbconvert_exporter": "python",
   "pygments_lexer": "ipython3",
   "version": "3.7.4"
  }
 },
 "nbformat": 4,
 "nbformat_minor": 2
}
